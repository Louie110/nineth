{
 "cells": [
  {
   "cell_type": "code",
   "execution_count": 85,
   "metadata": {},
   "outputs": [
    {
     "name": "stdout",
     "output_type": "stream",
     "text": [
      "训练样本的混淆矩阵为：\n",
      "    0    1   2   3  4  5\n",
      "0  53    0   0   0  0  0\n",
      "1   0  116   0   0  0  0\n",
      "2   0    0  63   0  0  0\n",
      "3   0    0   0  11  0  0\n",
      "4   0    0   0   0  8  0\n",
      "5   0    0   0   0  0  5\n",
      "测试样本的混淆矩阵为：\n",
      "    0   1   2  3  4  5  6\n",
      "0  10   0   0  0  0  0  0\n",
      "1   1  29   0  0  0  0  0\n",
      "2   0   0  19  1  0  0  0\n",
      "3   0   0   0  0  0  0  0\n",
      "4   0   0   0  0  2  0  0\n",
      "5   0   0   0  0  0  1  0\n",
      "6   0   0   0  0  0  1  0\n",
      "----------------------------------------\n",
      "core_metrics:\n",
      "+----------+\n",
      "| accuracy |\n",
      "+----------+\n",
      "| 0.953125 |\n",
      "+----------+\n",
      "分类准确率为\t95.31%\n"
     ]
    }
   ],
   "source": [
    "import pandas as pd\n",
    "from sklearn.model_selection import train_test_split\n",
    "from sklearn.metrics import accuracy_score,confusion_matrix,f1_score  #导入评价指标库\n",
    "from sklearn.tree import DecisionTreeClassifier #导入决策树\n",
    "import prettytable  #导入表格库\n",
    "\n",
    "##--------------------导入数据并划分----------------\n",
    "data = pd.read_excel('拓展思考样本数据.xls')\n",
    "x = data.iloc[:,:-1].as_matrix()\n",
    "y = data.iloc[:,-1].as_matrix()\n",
    "x_train,x_test,y_train,y_test = train_test_split(x,y,test_size = .2, random_state = 0)\n",
    "\n",
    "##--------------------训练模型--------------------\n",
    "model_tree = DecisionTreeClassifier(random_state = 0).fit(x_train,y_train)\n",
    "\n",
    "##-------------------模型预测--------------------\n",
    "y_pred = model_tree.predict(x_test)\n",
    "\n",
    "##------------------混淆矩阵---------------------\n",
    "com_train = pd.DataFrame(confusion_matrix(y_train,model_tree.predict(x_train)))\n",
    "com_test = pd.DataFrame(confusion_matrix(y_test,y_pred))\n",
    "\n",
    "accuracy_s = accuracy_score(y_test,y_pred)\n",
    "\n",
    "core_metrics=prettytable.PrettyTable()  #创建表格实例\n",
    "core_metrics.field_names = ['accuracy']  #定义表格列名\n",
    "core_metrics.add_row([accuracy_s])   #增加数据\n",
    "\n",
    "print('训练样本的混淆矩阵为：')\n",
    "print(com_train)\n",
    "print('测试样本的混淆矩阵为：')\n",
    "print(com_test)\n",
    "print('-'*40) #分割线\n",
    "print('core_metrics:')\n",
    "print(core_metrics)\n",
    "print('分类准确率为\\t%.2f%%' %(accuracy_s*100))"
   ]
  },
  {
   "cell_type": "code",
   "execution_count": null,
   "metadata": {},
   "outputs": [],
   "source": []
  }
 ],
 "metadata": {
  "kernelspec": {
   "display_name": "Python 3",
   "language": "python",
   "name": "python3"
  },
  "language_info": {
   "codemirror_mode": {
    "name": "ipython",
    "version": 3
   },
   "file_extension": ".py",
   "mimetype": "text/x-python",
   "name": "python",
   "nbconvert_exporter": "python",
   "pygments_lexer": "ipython3",
   "version": "3.6.4"
  }
 },
 "nbformat": 4,
 "nbformat_minor": 2
}
